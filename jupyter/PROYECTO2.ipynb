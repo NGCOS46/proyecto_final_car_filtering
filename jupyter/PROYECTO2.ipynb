{
 "cells": [
  {
   "cell_type": "code",
   "execution_count": 2,
   "id": "ee5c0b7a",
   "metadata": {},
   "outputs": [],
   "source": [
    "import pandas as pd\n",
    "\n",
    "austria_df = pd.read_csv(r\"C:\\Users\\VANT\\iron\\proyectos\\PROYECTO_FINAL\\bmw_options_2\\austria_auto_exported.csv\")\n",
    "belgium_df = pd.read_csv(r\"C:\\Users\\VANT\\iron\\proyectos\\PROYECTO_FINAL\\bmw_options_2\\belgium_auto_exported.csv\")\n",
    "france_df = pd.read_csv(r\"C:\\Users\\VANT\\iron\\proyectos\\PROYECTO_FINAL\\bmw_options_2\\france_auto_exported.csv\")\n",
    "germany_df = pd.read_csv(r\"C:\\Users\\VANT\\iron\\proyectos\\PROYECTO_FINAL\\bmw_options_2\\germany_auto_exported.csv\")\n",
    "italy_df = pd.read_csv(r\"C:\\Users\\VANT\\iron\\proyectos\\PROYECTO_FINAL\\bmw_options_2\\italy_auto_exported.csv\")\n",
    "luxembourg_df = pd.read_csv(r\"C:\\Users\\VANT\\iron\\proyectos\\PROYECTO_FINAL\\bmw_options_2\\luxembourg_auto_exported.csv\")\n",
    "netherlands_df = pd.read_csv(r\"C:\\Users\\VANT\\iron\\proyectos\\PROYECTO_FINAL\\bmw_options_2\\netherlands_auto_exported.csv\")\n"
   ]
  },
  {
   "cell_type": "code",
   "execution_count": 3,
   "id": "e1a67635",
   "metadata": {},
   "outputs": [
    {
     "name": "stderr",
     "output_type": "stream",
     "text": [
      "2023-09-07 10:21:57.077 \n",
      "  \u001b[33m\u001b[1mWarning:\u001b[0m to view this Streamlit app on a browser, run it with the following\n",
      "  command:\n",
      "\n",
      "    streamlit run C:\\Users\\VANT\\AppData\\Local\\Programs\\Python\\Python311\\Lib\\site-packages\\ipykernel_launcher.py [ARGUMENTS]\n"
     ]
    }
   ],
   "source": [
    "import streamlit as st\n",
    "import pandas as pd\n",
    "\n",
    "def main():\n",
    "    st.title(\"Car Finder App\")\n",
    "    st.sidebar.header(\"Opciones de Filtro\")\n",
    "    st.sidebar.markdown(\"¡Personaliza tu búsqueda de autos!\")\n",
    "    \n",
    "    # Estilo CSS básico\n",
    "    st.markdown(\n",
    "        \"\"\"\n",
    "        <style>\n",
    "        .title {\n",
    "            font-size: 32px;\n",
    "            text-align: center;\n",
    "            padding: 16px;\n",
    "        }\n",
    "        .sidebar {\n",
    "            background-color: #f0f0f0;\n",
    "            padding: 16px;\n",
    "            border-radius: 8px;\n",
    "            margin: 8px;\n",
    "        }\n",
    "        .button {\n",
    "            background-color: #008CBA;\n",
    "            color: white;\n",
    "            padding: 10px 20px;\n",
    "            border: none;\n",
    "            border-radius: 4px;\n",
    "            cursor: pointer;\n",
    "            font-size: 16px;\n",
    "        }\n",
    "        .button:hover {\n",
    "            background-color: #005F79;\n",
    "        }\n",
    "        </style>\n",
    "        \"\"\",\n",
    "        unsafe_allow_html=True\n",
    "    )\n",
    "\n",
    "    # Filtrado de Streamlit\n",
    "    make_input = st.sidebar.text_input(\"Marca (Make)\")\n",
    "    model_input = st.sidebar.text_input(\"Modelo (Model)\")\n",
    "    option_P = st.sidebar.radio(\"Unidad de Potencia\", [\"hp\", \"kw\"], index=0)\n",
    "    power_min_input = st.sidebar.number_input(\"Potencia Mínima\", value=100)\n",
    "    power_max_input = st.sidebar.number_input(\"Potencia Máxima\", value=200)\n",
    "    option_gear = st.sidebar.radio(\"Tipo de Transmisión\", [\"Manual\", \"Automático\", \"Semi\"], index=0)\n",
    "    option_mileage = st.sidebar.selectbox(\"Kilometraje\", [\"5.000\", \"10.000\", \"30.000\", \"50.000\", \"80.000\", \"100.000\"], index=2)\n",
    "    option_fuel = st.sidebar.selectbox(\"Tipo de Combustible\", [\"gasolina\", \"diésel\", \"eléctrico\", \"híbrido\"], index=0)\n",
    "    option_price = st.sidebar.selectbox(\"Precio\", [\"500\", \"10.000\", \"20.000\", \"30.000\", \"40.000\", \"50.000\", \"75.000\", \"100.000\"], index=3)\n",
    "\n",
    "    # Mostrar tablas para cada país\n",
    "    st.subheader(\"Resultados por país:\")\n",
    "\n",
    "    st.subheader(\"Austria:\")\n",
    "    st.write(austria_df)\n",
    "\n",
    "    st.subheader(\"Bélgica:\")\n",
    "    st.write(belgium_df)\n",
    "\n",
    "    st.subheader(\"Francia:\")\n",
    "    st.write(france_df)\n",
    "\n",
    "    st.subheader(\"Alemania:\")\n",
    "    st.write(germany_df)\n",
    "\n",
    "    st.subheader(\"Italia:\")\n",
    "    st.write(italy_df)\n",
    "\n",
    "    st.subheader(\"Luxemburgo:\")\n",
    "    st.write(luxembourg_df)\n",
    "\n",
    "    st.subheader(\"Países Bajos:\")\n",
    "    st.write(netherlands_df)\n",
    "\n",
    "if __name__ == \"__main__\":\n",
    "    main()"
   ]
  },
  {
   "cell_type": "code",
   "execution_count": null,
   "id": "593b1e9b",
   "metadata": {},
   "outputs": [],
   "source": []
  }
 ],
 "metadata": {
  "kernelspec": {
   "display_name": "Nicolas",
   "language": "python",
   "name": "nicolas"
  },
  "language_info": {
   "codemirror_mode": {
    "name": "ipython",
    "version": 3
   },
   "file_extension": ".py",
   "mimetype": "text/x-python",
   "name": "python",
   "nbconvert_exporter": "python",
   "pygments_lexer": "ipython3",
   "version": "3.11.3"
  }
 },
 "nbformat": 4,
 "nbformat_minor": 5
}
